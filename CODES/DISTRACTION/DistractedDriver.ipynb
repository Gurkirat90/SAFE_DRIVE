{
  "nbformat": 4,
  "nbformat_minor": 0,
  "metadata": {
    "colab": {
      "provenance": [],
      "gpuType": "T4"
    },
    "kernelspec": {
      "name": "python3",
      "display_name": "Python 3"
    },
    "language_info": {
      "name": "python"
    },
    "accelerator": "GPU"
  },
  "cells": [
    {
      "cell_type": "code",
      "source": [
        "from google.colab import drive\n",
        "drive.mount('/content/drive')"
      ],
      "metadata": {
        "colab": {
          "base_uri": "https://localhost:8080/"
        },
        "id": "VanF_qrH5SgG",
        "outputId": "f46a41fd-89a3-4952-fe93-e8b1dd343b79"
      },
      "execution_count": 1,
      "outputs": [
        {
          "output_type": "stream",
          "name": "stdout",
          "text": [
            "Mounted at /content/drive\n"
          ]
        }
      ]
    },
    {
      "cell_type": "markdown",
      "source": [
        "Purpose: Connects your Google Drive to the Colab environment so you can read and write files (datasets, models, etc.) directly from your Drive.\n",
        "\n",
        "The dataset used in this project is too large to be uploaded directly to Colab due to storage and session limitations.\n",
        "To handle this, we have connected Colab to Google Drive where the dataset is stored.\n",
        "The dataset is located under the folder:\n",
        "SafeRoad/References & Links for Datasets in Drive.\n",
        "This setup allows seamless access to the dataset and also enables saving trained models directly to Drive for future use."
      ],
      "metadata": {
        "id": "cKwH9xMt5Xjr"
      }
    },
    {
      "cell_type": "code",
      "source": [
        "import os\n",
        "print(\"Files in your References & Links for Datasets folder:\")\n",
        "!ls -la \"/content/drive/MyDrive/SafeRoad/References & Links for Datasets/\""
      ],
      "metadata": {
        "colab": {
          "base_uri": "https://localhost:8080/"
        },
        "id": "efY3K14W5fud",
        "outputId": "78c1308d-6e8b-4666-819b-a8d0cbff9cad"
      },
      "execution_count": 2,
      "outputs": [
        {
          "output_type": "stream",
          "name": "stdout",
          "text": [
            "Files in your References & Links for Datasets folder:\n",
            "total 4823937\n",
            "-rw------- 1 root root  628035458 Jul 22 17:16 archive.zip\n",
            "-rw------- 1 root root     491359 Jul 22 16:43 driver_imgs_list.csv\n",
            "drwx------ 2 root root       4096 Jul 22 17:28 my_test_images\n",
            "-rw------- 1 root root    4298269 Jul 22 16:42 sample_submission.csv\n",
            "-rw------- 1 root root 4306881343 Jul 22 16:41 state-farm-distracted-driver-detection.zip\n"
          ]
        }
      ]
    },
    {
      "cell_type": "markdown",
      "source": [
        "Lists all files in the folder References & Links for Datasets inside your Google Drive.\n",
        "This is just a sanity check—so you know what dataset files (e.g., state-farm-distracted-driver-detection.zip) are present.\n"
      ],
      "metadata": {
        "id": "FSRlNJoB5mrJ"
      }
    },
    {
      "cell_type": "code",
      "source": [
        "import glob\n",
        "\n",
        "# Updated paths for your folder structure\n",
        "DATASET_PATH = \"/content/drive/MyDrive/SafeRoad/References & Links for Datasets\"\n",
        "MODEL_SAVE_PATH = \"/content/drive/MyDrive/SafeRoad/Code/Saved Models\"\n",
        "\n",
        "# Create model save directory if it doesn't exist\n",
        "os.makedirs(MODEL_SAVE_PATH, exist_ok=True)\n",
        "print(f\"Model save path: {MODEL_SAVE_PATH}\")\n",
        "\n",
        "possible_zip_paths = [\n",
        "    f\"{DATASET_PATH}/state-farm-distracted-driver-detection.zip\",\n",
        "    f\"{DATASET_PATH}/*.zip\"\n",
        "]\n",
        "\n",
        "zip_file_path = None\n",
        "for path in possible_zip_paths:\n",
        "    files = glob.glob(path)\n",
        "    if files:\n",
        "        # Find the state-farm zip specifically\n",
        "        for file in files:\n",
        "            if 'state-farm' in file:\n",
        "                zip_file_path = file\n",
        "                break\n",
        "        if not zip_file_path:\n",
        "            zip_file_path = files[0]\n",
        "        print(f\"Found zip file: {zip_file_path}\")\n",
        "        break\n",
        "\n",
        "if not zip_file_path:\n",
        "    print(\"❌ No zip file found!\")\n",
        "    print(\"Please make sure the zip file is in the References & Links for Datasets folder\")\n",
        "    print(\"\\nFiles in folder:\")\n",
        "    !ls \"/content/drive/MyDrive/SafeRoad/References & Links for Datasets/\"\n",
        "else:\n",
        "    print(f\"✓ Using zip file: {zip_file_path}\")"
      ],
      "metadata": {
        "colab": {
          "base_uri": "https://localhost:8080/"
        },
        "id": "NBYQrhiM50W-",
        "outputId": "68f3cc44-be26-485f-9fb2-8da3696a5176"
      },
      "execution_count": 3,
      "outputs": [
        {
          "output_type": "stream",
          "name": "stdout",
          "text": [
            "Model save path: /content/drive/MyDrive/SafeRoad/Code/Saved Models\n",
            "Found zip file: /content/drive/MyDrive/SafeRoad/References & Links for Datasets/state-farm-distracted-driver-detection.zip\n",
            "✓ Using zip file: /content/drive/MyDrive/SafeRoad/References & Links for Datasets/state-farm-distracted-driver-detection.zip\n"
          ]
        }
      ]
    },
    {
      "cell_type": "markdown",
      "source": [
        "Defines the paths where your dataset is stored and where trained models will be saved.\n",
        "\n",
        "Checks if a dataset zip file is present in the folder.\n",
        "\n",
        "Prepares MODEL_SAVE_PATH by creating the directory if it doesn’t exist."
      ],
      "metadata": {
        "id": "j1gM3ANo53JF"
      }
    },
    {
      "cell_type": "code",
      "source": [
        "if zip_file_path:\n",
        "    # Check if already extracted\n",
        "    if os.path.exists('/content/imgs') or os.path.exists('/content/state-farm-distracted-driver-detection'):\n",
        "        print(\"✓ Dataset appears to be already extracted. Skipping extraction.\")\n",
        "        if os.path.exists('/content/state-farm-distracted-driver-detection'):\n",
        "            BASE_PATH = '/content/state-farm-distracted-driver-detection'\n",
        "        elif os.path.exists('/content/imgs'):\n",
        "            BASE_PATH = '/content'\n",
        "    else:\n",
        "        print(f\"\\nExtracting {zip_file_path}...\")\n",
        "        # Use -o flag to force overwrite without prompting\n",
        "        !unzip -o -q \"{zip_file_path}\" -d \"/content/\"\n",
        "        print(\"✓ Extraction complete!\")\n",
        "\n",
        "    # Check what was extracted\n",
        "    print(\"\\nExtracted contents:\")\n",
        "    !ls -la /content/\n",
        "\n",
        "    # Find the dataset folder\n",
        "    if os.path.exists('/content/state-farm-distracted-driver-detection'):\n",
        "        BASE_PATH = '/content/state-farm-distracted-driver-detection'\n",
        "    elif os.path.exists('/content/imgs'):\n",
        "        BASE_PATH = '/content'\n",
        "    else:\n",
        "        # List all directories to find the right one\n",
        "        print(\"\\nSearching for dataset folder...\")\n",
        "        !find /content -name \"driver_imgs_list.csv\" -type f 2>/dev/null"
      ],
      "metadata": {
        "colab": {
          "base_uri": "https://localhost:8080/"
        },
        "id": "MVJpNygl6Cg6",
        "outputId": "a9acb1e8-7688-47ff-d372-274636cf6b2c"
      },
      "execution_count": 4,
      "outputs": [
        {
          "output_type": "stream",
          "name": "stdout",
          "text": [
            "\n",
            "Extracting /content/drive/MyDrive/SafeRoad/References & Links for Datasets/state-farm-distracted-driver-detection.zip...\n",
            "✓ Extraction complete!\n",
            "\n",
            "Extracted contents:\n",
            "total 24\n",
            "drwxr-xr-x 1 root root 4096 Jul 27 14:48 .\n",
            "drwxr-xr-x 1 root root 4096 Jul 27 14:46 ..\n",
            "drwxr-xr-x 4 root root 4096 Jul 24 13:37 .config\n",
            "drwx------ 5 root root 4096 Jul 27 14:48 drive\n",
            "drwxr-xr-x 1 root root 4096 Jul 24 13:37 sample_data\n",
            "drwxrwxrwx 3 root root 4096 Jul 11 06:25 state-farm-distracted-driver-detection\n"
          ]
        }
      ]
    },
    {
      "cell_type": "markdown",
      "source": [
        "Extracts the dataset zip file into /content/.\n",
        "\n",
        "Skips extraction if the dataset is already present.\n",
        "\n",
        "Identifies the base dataset folder (e.g., state-farm-distracted-driver-detection)."
      ],
      "metadata": {
        "id": "oBb1ms596F46"
      }
    },
    {
      "cell_type": "code",
      "source": [
        "import pandas as pd\n",
        "\n",
        "# First try to use the CSV from your folder directly if it exists\n",
        "CSV_IN_FOLDER = f\"{DATASET_PATH}/driver_imgs_list.csv\"\n",
        "if os.path.exists(CSV_IN_FOLDER):\n",
        "    CSV_PATH = CSV_IN_FOLDER\n",
        "    print(f\"✓ Using CSV from your folder: {CSV_PATH}\")\n",
        "else:\n",
        "    # Try to find the CSV files in extracted content\n",
        "    csv_locations = !find /content -name \"driver_imgs_list.csv\" -type f 2>/dev/null\n",
        "    if csv_locations:\n",
        "        csv_path = csv_locations[0]\n",
        "        BASE_PATH = os.path.dirname(csv_path)\n",
        "        CSV_PATH = csv_path\n",
        "        print(f\"✓ Found dataset at: {BASE_PATH}\")\n",
        "    else:\n",
        "        print(\"❌ Could not find driver_imgs_list.csv\")\n",
        "        print(\"Please check your zip file structure\")\n",
        "\n",
        "# Check structure\n",
        "if 'BASE_PATH' in locals():\n",
        "    print(f\"\\nDataset structure at {BASE_PATH}:\")\n",
        "    !ls -la \"{BASE_PATH}\"\n",
        "\n",
        "    # Check imgs folder\n",
        "    if os.path.exists(f\"{BASE_PATH}/imgs\"):\n",
        "        print(\"\\nImages folder:\")\n",
        "        !ls -la \"{BASE_PATH}/imgs/\""
      ],
      "metadata": {
        "colab": {
          "base_uri": "https://localhost:8080/"
        },
        "id": "-97-WHnV63K5",
        "outputId": "c6688a16-6d33-484d-bd14-e87a84c0fedf"
      },
      "execution_count": 5,
      "outputs": [
        {
          "output_type": "stream",
          "name": "stdout",
          "text": [
            "✓ Using CSV from your folder: /content/drive/MyDrive/SafeRoad/References & Links for Datasets/driver_imgs_list.csv\n",
            "\n",
            "Dataset structure at /content/state-farm-distracted-driver-detection:\n",
            "total 12\n",
            "drwxrwxrwx 3 root root 4096 Jul 11 06:25 .\n",
            "drwxr-xr-x 1 root root 4096 Jul 27 14:48 ..\n",
            "drwxrwxrwx 4 root root 4096 Jul  8 18:07 imgs\n",
            "\n",
            "Images folder:\n",
            "total 2660\n",
            "drwxrwxrwx  4 root root    4096 Jul  8 18:07 .\n",
            "drwxrwxrwx  3 root root    4096 Jul 11 06:25 ..\n",
            "drwxrwxrwx  2 root root 2707456 Jul  8 18:07 test\n",
            "drwxrwxrwx 12 root root    4096 Jul  8 18:11 train\n"
          ]
        }
      ]
    },
    {
      "cell_type": "markdown",
      "source": [
        "Finds driver_imgs_list.csv (the CSV with image-to-class mappings).\n",
        "\n",
        "Confirms the correct dataset structure (like the imgs folder).\n",
        "\n",
        "Lists the content of the dataset to ensure everything’s in place."
      ],
      "metadata": {
        "id": "8uyrXea865WX"
      }
    },
    {
      "cell_type": "code",
      "source": [
        "!pip install opencv-python\n",
        "!pip install scikit-learn\n",
        "!pip install seaborn\n",
        "!pip install tensorflow\n",
        "!pip install torch torchvision pandas scikit-learn tqdm matplotlib --quiet"
      ],
      "metadata": {
        "colab": {
          "base_uri": "https://localhost:8080/"
        },
        "id": "Rtd2ytCn7GB9",
        "outputId": "9e59e071-aea3-44d9-9157-53abe482ffa5"
      },
      "execution_count": 6,
      "outputs": [
        {
          "output_type": "stream",
          "name": "stdout",
          "text": [
            "Requirement already satisfied: opencv-python in /usr/local/lib/python3.11/dist-packages (4.12.0.88)\n",
            "Requirement already satisfied: numpy<2.3.0,>=2 in /usr/local/lib/python3.11/dist-packages (from opencv-python) (2.0.2)\n",
            "Requirement already satisfied: scikit-learn in /usr/local/lib/python3.11/dist-packages (1.6.1)\n",
            "Requirement already satisfied: numpy>=1.19.5 in /usr/local/lib/python3.11/dist-packages (from scikit-learn) (2.0.2)\n",
            "Requirement already satisfied: scipy>=1.6.0 in /usr/local/lib/python3.11/dist-packages (from scikit-learn) (1.16.0)\n",
            "Requirement already satisfied: joblib>=1.2.0 in /usr/local/lib/python3.11/dist-packages (from scikit-learn) (1.5.1)\n",
            "Requirement already satisfied: threadpoolctl>=3.1.0 in /usr/local/lib/python3.11/dist-packages (from scikit-learn) (3.6.0)\n",
            "Requirement already satisfied: seaborn in /usr/local/lib/python3.11/dist-packages (0.13.2)\n",
            "Requirement already satisfied: numpy!=1.24.0,>=1.20 in /usr/local/lib/python3.11/dist-packages (from seaborn) (2.0.2)\n",
            "Requirement already satisfied: pandas>=1.2 in /usr/local/lib/python3.11/dist-packages (from seaborn) (2.2.2)\n",
            "Requirement already satisfied: matplotlib!=3.6.1,>=3.4 in /usr/local/lib/python3.11/dist-packages (from seaborn) (3.10.0)\n",
            "Requirement already satisfied: contourpy>=1.0.1 in /usr/local/lib/python3.11/dist-packages (from matplotlib!=3.6.1,>=3.4->seaborn) (1.3.2)\n",
            "Requirement already satisfied: cycler>=0.10 in /usr/local/lib/python3.11/dist-packages (from matplotlib!=3.6.1,>=3.4->seaborn) (0.12.1)\n",
            "Requirement already satisfied: fonttools>=4.22.0 in /usr/local/lib/python3.11/dist-packages (from matplotlib!=3.6.1,>=3.4->seaborn) (4.59.0)\n",
            "Requirement already satisfied: kiwisolver>=1.3.1 in /usr/local/lib/python3.11/dist-packages (from matplotlib!=3.6.1,>=3.4->seaborn) (1.4.8)\n",
            "Requirement already satisfied: packaging>=20.0 in /usr/local/lib/python3.11/dist-packages (from matplotlib!=3.6.1,>=3.4->seaborn) (25.0)\n",
            "Requirement already satisfied: pillow>=8 in /usr/local/lib/python3.11/dist-packages (from matplotlib!=3.6.1,>=3.4->seaborn) (11.3.0)\n",
            "Requirement already satisfied: pyparsing>=2.3.1 in /usr/local/lib/python3.11/dist-packages (from matplotlib!=3.6.1,>=3.4->seaborn) (3.2.3)\n",
            "Requirement already satisfied: python-dateutil>=2.7 in /usr/local/lib/python3.11/dist-packages (from matplotlib!=3.6.1,>=3.4->seaborn) (2.9.0.post0)\n",
            "Requirement already satisfied: pytz>=2020.1 in /usr/local/lib/python3.11/dist-packages (from pandas>=1.2->seaborn) (2025.2)\n",
            "Requirement already satisfied: tzdata>=2022.7 in /usr/local/lib/python3.11/dist-packages (from pandas>=1.2->seaborn) (2025.2)\n",
            "Requirement already satisfied: six>=1.5 in /usr/local/lib/python3.11/dist-packages (from python-dateutil>=2.7->matplotlib!=3.6.1,>=3.4->seaborn) (1.17.0)\n",
            "Requirement already satisfied: tensorflow in /usr/local/lib/python3.11/dist-packages (2.18.0)\n",
            "Requirement already satisfied: absl-py>=1.0.0 in /usr/local/lib/python3.11/dist-packages (from tensorflow) (1.4.0)\n",
            "Requirement already satisfied: astunparse>=1.6.0 in /usr/local/lib/python3.11/dist-packages (from tensorflow) (1.6.3)\n",
            "Requirement already satisfied: flatbuffers>=24.3.25 in /usr/local/lib/python3.11/dist-packages (from tensorflow) (25.2.10)\n",
            "Requirement already satisfied: gast!=0.5.0,!=0.5.1,!=0.5.2,>=0.2.1 in /usr/local/lib/python3.11/dist-packages (from tensorflow) (0.6.0)\n",
            "Requirement already satisfied: google-pasta>=0.1.1 in /usr/local/lib/python3.11/dist-packages (from tensorflow) (0.2.0)\n",
            "Requirement already satisfied: libclang>=13.0.0 in /usr/local/lib/python3.11/dist-packages (from tensorflow) (18.1.1)\n",
            "Requirement already satisfied: opt-einsum>=2.3.2 in /usr/local/lib/python3.11/dist-packages (from tensorflow) (3.4.0)\n",
            "Requirement already satisfied: packaging in /usr/local/lib/python3.11/dist-packages (from tensorflow) (25.0)\n",
            "Requirement already satisfied: protobuf!=4.21.0,!=4.21.1,!=4.21.2,!=4.21.3,!=4.21.4,!=4.21.5,<6.0.0dev,>=3.20.3 in /usr/local/lib/python3.11/dist-packages (from tensorflow) (5.29.5)\n",
            "Requirement already satisfied: requests<3,>=2.21.0 in /usr/local/lib/python3.11/dist-packages (from tensorflow) (2.32.3)\n",
            "Requirement already satisfied: setuptools in /usr/local/lib/python3.11/dist-packages (from tensorflow) (75.2.0)\n",
            "Requirement already satisfied: six>=1.12.0 in /usr/local/lib/python3.11/dist-packages (from tensorflow) (1.17.0)\n",
            "Requirement already satisfied: termcolor>=1.1.0 in /usr/local/lib/python3.11/dist-packages (from tensorflow) (3.1.0)\n",
            "Requirement already satisfied: typing-extensions>=3.6.6 in /usr/local/lib/python3.11/dist-packages (from tensorflow) (4.14.1)\n",
            "Requirement already satisfied: wrapt>=1.11.0 in /usr/local/lib/python3.11/dist-packages (from tensorflow) (1.17.2)\n",
            "Requirement already satisfied: grpcio<2.0,>=1.24.3 in /usr/local/lib/python3.11/dist-packages (from tensorflow) (1.73.1)\n",
            "Requirement already satisfied: tensorboard<2.19,>=2.18 in /usr/local/lib/python3.11/dist-packages (from tensorflow) (2.18.0)\n",
            "Requirement already satisfied: keras>=3.5.0 in /usr/local/lib/python3.11/dist-packages (from tensorflow) (3.8.0)\n",
            "Requirement already satisfied: numpy<2.1.0,>=1.26.0 in /usr/local/lib/python3.11/dist-packages (from tensorflow) (2.0.2)\n",
            "Requirement already satisfied: h5py>=3.11.0 in /usr/local/lib/python3.11/dist-packages (from tensorflow) (3.14.0)\n",
            "Requirement already satisfied: ml-dtypes<0.5.0,>=0.4.0 in /usr/local/lib/python3.11/dist-packages (from tensorflow) (0.4.1)\n",
            "Requirement already satisfied: tensorflow-io-gcs-filesystem>=0.23.1 in /usr/local/lib/python3.11/dist-packages (from tensorflow) (0.37.1)\n",
            "Requirement already satisfied: wheel<1.0,>=0.23.0 in /usr/local/lib/python3.11/dist-packages (from astunparse>=1.6.0->tensorflow) (0.45.1)\n",
            "Requirement already satisfied: rich in /usr/local/lib/python3.11/dist-packages (from keras>=3.5.0->tensorflow) (13.9.4)\n",
            "Requirement already satisfied: namex in /usr/local/lib/python3.11/dist-packages (from keras>=3.5.0->tensorflow) (0.1.0)\n",
            "Requirement already satisfied: optree in /usr/local/lib/python3.11/dist-packages (from keras>=3.5.0->tensorflow) (0.16.0)\n",
            "Requirement already satisfied: charset-normalizer<4,>=2 in /usr/local/lib/python3.11/dist-packages (from requests<3,>=2.21.0->tensorflow) (3.4.2)\n",
            "Requirement already satisfied: idna<4,>=2.5 in /usr/local/lib/python3.11/dist-packages (from requests<3,>=2.21.0->tensorflow) (3.10)\n",
            "Requirement already satisfied: urllib3<3,>=1.21.1 in /usr/local/lib/python3.11/dist-packages (from requests<3,>=2.21.0->tensorflow) (2.5.0)\n",
            "Requirement already satisfied: certifi>=2017.4.17 in /usr/local/lib/python3.11/dist-packages (from requests<3,>=2.21.0->tensorflow) (2025.7.14)\n",
            "Requirement already satisfied: markdown>=2.6.8 in /usr/local/lib/python3.11/dist-packages (from tensorboard<2.19,>=2.18->tensorflow) (3.8.2)\n",
            "Requirement already satisfied: tensorboard-data-server<0.8.0,>=0.7.0 in /usr/local/lib/python3.11/dist-packages (from tensorboard<2.19,>=2.18->tensorflow) (0.7.2)\n",
            "Requirement already satisfied: werkzeug>=1.0.1 in /usr/local/lib/python3.11/dist-packages (from tensorboard<2.19,>=2.18->tensorflow) (3.1.3)\n",
            "Requirement already satisfied: MarkupSafe>=2.1.1 in /usr/local/lib/python3.11/dist-packages (from werkzeug>=1.0.1->tensorboard<2.19,>=2.18->tensorflow) (3.0.2)\n",
            "Requirement already satisfied: markdown-it-py>=2.2.0 in /usr/local/lib/python3.11/dist-packages (from rich->keras>=3.5.0->tensorflow) (3.0.0)\n",
            "Requirement already satisfied: pygments<3.0.0,>=2.13.0 in /usr/local/lib/python3.11/dist-packages (from rich->keras>=3.5.0->tensorflow) (2.19.2)\n",
            "Requirement already satisfied: mdurl~=0.1 in /usr/local/lib/python3.11/dist-packages (from markdown-it-py>=2.2.0->rich->keras>=3.5.0->tensorflow) (0.1.2)\n",
            "\u001b[2K   \u001b[90m━━━━━━━━━━━━━━━━━━━━━━━━━━━━━━━━━━━━━━━━\u001b[0m \u001b[32m363.4/363.4 MB\u001b[0m \u001b[31m3.8 MB/s\u001b[0m eta \u001b[36m0:00:00\u001b[0m\n",
            "\u001b[2K   \u001b[90m━━━━━━━━━━━━━━━━━━━━━━━━━━━━━━━━━━━━━━━━\u001b[0m \u001b[32m13.8/13.8 MB\u001b[0m \u001b[31m81.0 MB/s\u001b[0m eta \u001b[36m0:00:00\u001b[0m\n",
            "\u001b[2K   \u001b[90m━━━━━━━━━━━━━━━━━━━━━━━━━━━━━━━━━━━━━━━━\u001b[0m \u001b[32m24.6/24.6 MB\u001b[0m \u001b[31m62.9 MB/s\u001b[0m eta \u001b[36m0:00:00\u001b[0m\n",
            "\u001b[2K   \u001b[90m━━━━━━━━━━━━━━━━━━━━━━━━━━━━━━━━━━━━━━━━\u001b[0m \u001b[32m883.7/883.7 kB\u001b[0m \u001b[31m49.2 MB/s\u001b[0m eta \u001b[36m0:00:00\u001b[0m\n",
            "\u001b[2K   \u001b[90m━━━━━━━━━━━━━━━━━━━━━━━━━━━━━━━━━━━━━━━━\u001b[0m \u001b[32m664.8/664.8 MB\u001b[0m \u001b[31m3.0 MB/s\u001b[0m eta \u001b[36m0:00:00\u001b[0m\n",
            "\u001b[2K   \u001b[90m━━━━━━━━━━━━━━━━━━━━━━━━━━━━━━━━━━━━━━━━\u001b[0m \u001b[32m211.5/211.5 MB\u001b[0m \u001b[31m5.5 MB/s\u001b[0m eta \u001b[36m0:00:00\u001b[0m\n",
            "\u001b[2K   \u001b[90m━━━━━━━━━━━━━━━━━━━━━━━━━━━━━━━━━━━━━━━━\u001b[0m \u001b[32m56.3/56.3 MB\u001b[0m \u001b[31m13.7 MB/s\u001b[0m eta \u001b[36m0:00:00\u001b[0m\n",
            "\u001b[2K   \u001b[90m━━━━━━━━━━━━━━━━━━━━━━━━━━━━━━━━━━━━━━━━\u001b[0m \u001b[32m127.9/127.9 MB\u001b[0m \u001b[31m9.6 MB/s\u001b[0m eta \u001b[36m0:00:00\u001b[0m\n",
            "\u001b[2K   \u001b[90m━━━━━━━━━━━━━━━━━━━━━━━━━━━━━━━━━━━━━━━━\u001b[0m \u001b[32m207.5/207.5 MB\u001b[0m \u001b[31m5.8 MB/s\u001b[0m eta \u001b[36m0:00:00\u001b[0m\n",
            "\u001b[2K   \u001b[90m━━━━━━━━━━━━━━━━━━━━━━━━━━━━━━━━━━━━━━━━\u001b[0m \u001b[32m21.1/21.1 MB\u001b[0m \u001b[31m36.6 MB/s\u001b[0m eta \u001b[36m0:00:00\u001b[0m\n",
            "\u001b[?25h"
          ]
        }
      ]
    },
    {
      "cell_type": "markdown",
      "source": [
        "Installs all the Python libraries you need for the project:\n",
        "\n",
        "opencv-python (image handling),\n",
        "\n",
        "scikit-learn (train/test splitting),\n",
        "\n",
        "seaborn (plotting),\n",
        "\n",
        "tensorflow (optional deep learning library),\n",
        "\n",
        "torch + torchvision (main PyTorch framework)."
      ],
      "metadata": {
        "id": "yyQ9C5dp7EP6"
      }
    },
    {
      "cell_type": "code",
      "source": [
        "import os\n",
        "import pandas as pd\n",
        "import numpy as np\n",
        "import matplotlib.pyplot as plt\n",
        "from sklearn.model_selection import train_test_split\n",
        "from torchvision import transforms, models\n",
        "from torch.utils.data import Dataset, DataLoader\n",
        "from PIL import Image\n",
        "import torch\n",
        "import torch.nn as nn\n",
        "import torch.optim as optim\n",
        "from tqdm import tqdm\n",
        "import json\n",
        "from datetime import datetime"
      ],
      "metadata": {
        "id": "4gSAYvQB7Plv"
      },
      "execution_count": 7,
      "outputs": []
    },
    {
      "cell_type": "markdown",
      "source": [
        "Loads all the necessary Python libraries (PyTorch, Pandas, NumPy, etc.).\n",
        "\n",
        "Sets configuration parameters: batch size, image size, number of epochs, patience for early stopping, etc.\n",
        "\n",
        "Prints the dataset and hardware (CPU/GPU) info.\n"
      ],
      "metadata": {
        "id": "VUKCGc0p7QWg"
      }
    },
    {
      "cell_type": "code",
      "source": [
        "if 'BASE_PATH' in locals():\n",
        "    IMG_DIR = os.path.join(BASE_PATH, \"imgs\", \"train\")\n",
        "    TEST_IMG_DIR = os.path.join(BASE_PATH, \"imgs\", \"test\")\n",
        "else:\n",
        "    # If BASE_PATH not set, assume data is directly in your folder\n",
        "    IMG_DIR = os.path.join(DATASET_PATH, \"imgs\", \"train\")\n",
        "    TEST_IMG_DIR = os.path.join(DATASET_PATH, \"imgs\", \"test\")\n",
        "\n",
        "BATCH_SIZE = 32\n",
        "IMG_SIZE = 224\n",
        "EPOCHS = 20\n",
        "patience = 4\n",
        "best_val_acc = 0.0\n",
        "epochs_no_improve = 0\n",
        "NUM_WORKERS = 2 if torch.cuda.is_available() else 0\n",
        "DEVICE = \"cuda\" if torch.cuda.is_available() else \"cpu\"\n",
        "\n",
        "print(f\"Using CSV path: {CSV_PATH}\")\n",
        "print(f\"Using image directory: {IMG_DIR}\")\n",
        "print(f\"Using test image directory: {TEST_IMG_DIR}\")\n",
        "print(f\"Using device: {DEVICE}\")"
      ],
      "metadata": {
        "colab": {
          "base_uri": "https://localhost:8080/"
        },
        "id": "fsCstszQ7Wjh",
        "outputId": "10d2eec1-3415-4e2c-8c8e-55de3cb3d8d7"
      },
      "execution_count": 8,
      "outputs": [
        {
          "output_type": "stream",
          "name": "stdout",
          "text": [
            "Using CSV path: /content/drive/MyDrive/SafeRoad/References & Links for Datasets/driver_imgs_list.csv\n",
            "Using image directory: /content/state-farm-distracted-driver-detection/imgs/train\n",
            "Using test image directory: /content/state-farm-distracted-driver-detection/imgs/test\n",
            "Using device: cuda\n"
          ]
        }
      ]
    },
    {
      "cell_type": "markdown",
      "source": [
        "Loads the CSV file into a DataFrame.\n",
        "\n",
        "Creates a new column label (converting c0 → 0, c1 → 1, etc.).\n",
        "\n",
        "Creates full image paths for each row in the CSV.\n",
        "\n",
        "Splits the dataset into training and validation sets (90% / 10%).\n",
        "\n"
      ],
      "metadata": {
        "id": "cHQCMb237akm"
      }
    },
    {
      "cell_type": "code",
      "source": [
        "df = pd.read_csv(CSV_PATH)\n",
        "print(f\"CSV loaded with {len(df)} rows\")\n",
        "print(\"Sample data:\")\n",
        "print(df.head())\n",
        "\n",
        "# Create label from classname (c0 → 0, c1 → 1, etc.)\n",
        "df['label'] = df['classname'].apply(lambda x: int(x[1:]))\n",
        "\n",
        "# Create full image paths\n",
        "df['img_path'] = df.apply(lambda row: os.path.join(IMG_DIR, row['classname'], row['img']), axis=1)\n",
        "\n",
        "# Verify some image paths exist\n",
        "print(\"\\nVerifying image paths...\")\n",
        "sample_paths = df['img_path'].head()\n",
        "for i, path in enumerate(sample_paths):\n",
        "    exists = os.path.exists(path)\n",
        "    print(f\"Path {i+1}: {exists} - {path}\")\n",
        "\n",
        "# Train/Val Split\n",
        "train_df, val_df = train_test_split(df, test_size=0.1, stratify=df['label'], random_state=42)\n",
        "print(f\"\\nTrain size: {len(train_df)}\")\n",
        "print(f\"Validation size: {len(val_df)}\")"
      ],
      "metadata": {
        "colab": {
          "base_uri": "https://localhost:8080/"
        },
        "id": "OfL9sVoa7tdi",
        "outputId": "5c1fc85c-aee5-4220-c8a8-ee29aa7862a7"
      },
      "execution_count": 9,
      "outputs": [
        {
          "output_type": "stream",
          "name": "stdout",
          "text": [
            "CSV loaded with 22424 rows\n",
            "Sample data:\n",
            "  subject classname            img\n",
            "0    p002        c0  img_44733.jpg\n",
            "1    p002        c0  img_72999.jpg\n",
            "2    p002        c0  img_25094.jpg\n",
            "3    p002        c0  img_69092.jpg\n",
            "4    p002        c0  img_92629.jpg\n",
            "\n",
            "Verifying image paths...\n",
            "Path 1: True - /content/state-farm-distracted-driver-detection/imgs/train/c0/img_44733.jpg\n",
            "Path 2: True - /content/state-farm-distracted-driver-detection/imgs/train/c0/img_72999.jpg\n",
            "Path 3: True - /content/state-farm-distracted-driver-detection/imgs/train/c0/img_25094.jpg\n",
            "Path 4: True - /content/state-farm-distracted-driver-detection/imgs/train/c0/img_69092.jpg\n",
            "Path 5: True - /content/state-farm-distracted-driver-detection/imgs/train/c0/img_92629.jpg\n",
            "\n",
            "Train size: 20181\n",
            "Validation size: 2243\n"
          ]
        }
      ]
    },
    {
      "cell_type": "markdown",
      "source": [
        "Defines a DriverDataset class (a PyTorch Dataset) that:\n",
        "\n",
        "Loads images and their labels on-the-fly.\n",
        "\n",
        "Applies transformations like resizing or normalization.\n",
        "\n",
        "Handles missing or broken image files gracefully."
      ],
      "metadata": {
        "id": "QTgOehLH7uPa"
      }
    },
    {
      "cell_type": "code",
      "source": [
        "class DriverDataset(Dataset):\n",
        "    def __init__(self, df, transform=None):\n",
        "        self.df = df.reset_index(drop=True)\n",
        "        self.transform = transform\n",
        "\n",
        "    def __len__(self):\n",
        "        return len(self.df)\n",
        "\n",
        "    def __getitem__(self, idx):\n",
        "        img_path = self.df.loc[idx, \"img_path\"]\n",
        "        label = self.df.loc[idx, \"label\"]\n",
        "\n",
        "        try:\n",
        "            image = Image.open(img_path).convert(\"RGB\")\n",
        "        except Exception as e:\n",
        "            print(f\"Error loading image {img_path}: {e}\")\n",
        "            # Return a dummy image if loading fails\n",
        "            image = Image.new('RGB', (224, 224), color='black')\n",
        "\n",
        "        if self.transform:\n",
        "            image = self.transform(image)\n",
        "        return image, label"
      ],
      "metadata": {
        "id": "HonIM_qB7y8U"
      },
      "execution_count": 10,
      "outputs": []
    },
    {
      "cell_type": "markdown",
      "source": [
        "Sets up image preprocessing pipelines (augmentations):\n",
        "\n",
        "transform_train (with random cropping, flipping, color jitter).\n",
        "\n",
        "transform_val (just resize and normalize)."
      ],
      "metadata": {
        "id": "eNIZLrLw7zng"
      }
    },
    {
      "cell_type": "code",
      "source": [
        "transform_train = transforms.Compose([\n",
        "    transforms.RandomResizedCrop(224, scale=(0.8, 1.0)),\n",
        "    transforms.RandomHorizontalFlip(),\n",
        "    transforms.ColorJitter(brightness=0.2, contrast=0.2, saturation=0.2, hue=0.1),\n",
        "    transforms.ToTensor(),\n",
        "    transforms.Normalize([0.485, 0.456, 0.406], [0.229, 0.224, 0.225]),\n",
        "])\n",
        "\n",
        "transform_val = transforms.Compose([\n",
        "    transforms.Resize((224, 224)),\n",
        "    transforms.ToTensor(),\n",
        "    transforms.Normalize([0.485, 0.456, 0.406], [0.229, 0.224, 0.225]),\n",
        "])"
      ],
      "metadata": {
        "id": "pdT4xTMf76q5"
      },
      "execution_count": 11,
      "outputs": []
    },
    {
      "cell_type": "markdown",
      "source": [
        "Wraps the dataset in DataLoader objects for efficient batch processing during training and validation.\n",
        "\n",
        "Uses the transformations defined earlier."
      ],
      "metadata": {
        "id": "1940ZeIN8Je2"
      }
    },
    {
      "cell_type": "code",
      "source": [
        "train_ds = DriverDataset(train_df, transform_train)\n",
        "val_ds = DriverDataset(val_df, transform_val)\n",
        "train_loader = DataLoader(train_ds, batch_size=BATCH_SIZE, shuffle=True, num_workers=NUM_WORKERS)\n",
        "val_loader = DataLoader(val_ds, batch_size=BATCH_SIZE, shuffle=False, num_workers=NUM_WORKERS)\n",
        "\n",
        "print(\"DataLoaders created successfully!\")"
      ],
      "metadata": {
        "colab": {
          "base_uri": "https://localhost:8080/"
        },
        "id": "koXMS0PW8HIP",
        "outputId": "08a9aff8-3800-400c-c9fc-20164574af51"
      },
      "execution_count": 12,
      "outputs": [
        {
          "output_type": "stream",
          "name": "stdout",
          "text": [
            "DataLoaders created successfully!\n"
          ]
        }
      ]
    },
    {
      "cell_type": "markdown",
      "source": [
        "Loads a pre-trained VGG16 model.\n",
        "\n",
        "Replaces the final layer with one that outputs 10 classes (for c0 to c9).\n",
        "\n",
        "Moves the model to GPU (cuda) if available.\n",
        "\n",
        "Sets up loss function (cross-entropy) and optimizer (Adam)."
      ],
      "metadata": {
        "id": "g4OVipEr8lwP"
      }
    },
    {
      "cell_type": "code",
      "source": [
        "model = models.vgg16(pretrained=True)\n",
        "model.classifier[6] = nn.Linear(4096, 10)  # 10 classes (c0–c9)\n",
        "model = model.to(DEVICE)\n",
        "\n",
        "criterion = nn.CrossEntropyLoss()\n",
        "optimizer = optim.Adam(model.parameters(), lr=1e-4)\n",
        "\n",
        "print(\"Model initialized!\")"
      ],
      "metadata": {
        "colab": {
          "base_uri": "https://localhost:8080/"
        },
        "id": "aRNSnuve8ynj",
        "outputId": "7f7076ff-1a5c-4406-8062-26135fc00550"
      },
      "execution_count": 13,
      "outputs": [
        {
          "output_type": "stream",
          "name": "stderr",
          "text": [
            "/usr/local/lib/python3.11/dist-packages/torchvision/models/_utils.py:208: UserWarning: The parameter 'pretrained' is deprecated since 0.13 and may be removed in the future, please use 'weights' instead.\n",
            "  warnings.warn(\n",
            "/usr/local/lib/python3.11/dist-packages/torchvision/models/_utils.py:223: UserWarning: Arguments other than a weight enum or `None` for 'weights' are deprecated since 0.13 and may be removed in the future. The current behavior is equivalent to passing `weights=VGG16_Weights.IMAGENET1K_V1`. You can also use `weights=VGG16_Weights.DEFAULT` to get the most up-to-date weights.\n",
            "  warnings.warn(msg)\n",
            "Downloading: \"https://download.pytorch.org/models/vgg16-397923af.pth\" to /root/.cache/torch/hub/checkpoints/vgg16-397923af.pth\n",
            "100%|██████████| 528M/528M [00:10<00:00, 53.5MB/s]\n"
          ]
        },
        {
          "output_type": "stream",
          "name": "stdout",
          "text": [
            "Model initialized!\n"
          ]
        }
      ]
    },
    {
      "cell_type": "markdown",
      "source": [
        "model = models.vgg16(pretrained=True)\n",
        "model.classifier[6] = nn.Linear(4096, 10)  # 10 classes (c0–c9)\n",
        "model = model.to(DEVICE)\n",
        "\n",
        "criterion = nn.CrossEntropyLoss()\n",
        "optimizer = optim.Adam(model.parameters(), lr=1e-4)\n",
        "\n",
        "print(\"Model initialized!\")"
      ],
      "metadata": {
        "id": "wxKx2-xI8w0w"
      }
    },
    {
      "cell_type": "code",
      "source": [
        "print(\"Starting training...\")\n",
        "train_losses = []\n",
        "train_accs = []\n",
        "val_losses = []\n",
        "val_accs = []\n",
        "\n",
        "# Define class names for distracted driving\n",
        "class_names = {\n",
        "    0: \"Normal Driving\",\n",
        "    1: \"Texting - Right\",\n",
        "    2: \"Talking Phone - Right\",\n",
        "    3: \"Texting - Left\",\n",
        "    4: \"Talking Phone - Left\",\n",
        "    5: \"Operating Radio\",\n",
        "    6: \"Drinking\",\n",
        "    7: \"Reaching Behind\",\n",
        "    8: \"Hair & Makeup\",\n",
        "    9: \"Talking to Passenger\"\n",
        "}\n",
        "\n",
        "for epoch in range(EPOCHS):\n",
        "    model.train()\n",
        "    running_loss = 0.0\n",
        "    correct = 0\n",
        "    total = 0\n",
        "\n",
        "    for imgs, labels in tqdm(train_loader, desc=f\"Epoch {epoch+1}/{EPOCHS}\"):\n",
        "        imgs, labels = imgs.to(DEVICE), labels.to(DEVICE)\n",
        "        optimizer.zero_grad()\n",
        "        outputs = model(imgs)\n",
        "        loss = criterion(outputs, labels)\n",
        "        loss.backward()\n",
        "        optimizer.step()\n",
        "        running_loss += loss.item() * imgs.size(0)\n",
        "\n",
        "        _, predicted = torch.max(outputs.data, 1)\n",
        "        total += labels.size(0)\n",
        "        correct += (predicted == labels).sum().item()\n",
        "\n",
        "    epoch_loss = running_loss / len(train_loader.dataset)\n",
        "    train_acc = 100. * correct / total\n",
        "    train_losses.append(epoch_loss)\n",
        "    train_accs.append(train_acc)\n",
        "\n",
        "    # Validation\n",
        "    model.eval()\n",
        "    val_running_loss = 0.0\n",
        "    correct, total = 0, 0\n",
        "    with torch.no_grad():\n",
        "        for imgs, labels in val_loader:\n",
        "            imgs, labels = imgs.to(DEVICE), labels.to(DEVICE)\n",
        "            outputs = model(imgs)\n",
        "            loss = criterion(outputs, labels)\n",
        "            val_running_loss += loss.item() * imgs.size(0)\n",
        "            _, preds = torch.max(outputs, 1)\n",
        "            correct += (preds == labels).sum().item()\n",
        "            total += labels.size(0)\n",
        "\n",
        "    val_loss = val_running_loss / len(val_loader.dataset)\n",
        "    val_acc = 100. * correct / total\n",
        "    val_losses.append(val_loss)\n",
        "    val_accs.append(val_acc)\n",
        "\n",
        "    print(f\"Epoch {epoch+1}: Train Loss={epoch_loss:.4f} | Train Acc={train_acc:.2f}% | Val Loss={val_loss:.4f} | Val Acc={val_acc:.2f}%\")\n",
        "\n",
        "    # Save best model with comprehensive checkpoint\n",
        "    if val_acc > best_val_acc:\n",
        "        best_val_acc = val_acc\n",
        "        epochs_no_improve = 0\n",
        "\n",
        "        # Create comprehensive checkpoint\n",
        "        checkpoint = {\n",
        "            'epoch': epoch,\n",
        "            'model_state_dict': model.state_dict(),\n",
        "            'optimizer_state_dict': optimizer.state_dict(),\n",
        "            'train_loss': epoch_loss,\n",
        "            'train_acc': train_acc,\n",
        "            'val_loss': val_loss,\n",
        "            'val_acc': val_acc,\n",
        "            'class_names': class_names,\n",
        "            'num_classes': 10,\n",
        "            'model_architecture': 'VGG16',\n",
        "            'image_size': IMG_SIZE,\n",
        "            'normalization_mean': [0.485, 0.456, 0.406],\n",
        "            'normalization_std': [0.229, 0.224, 0.225],\n",
        "            'timestamp': datetime.now().strftime(\"%Y-%m-%d %H:%M:%S\")\n",
        "        }\n",
        "\n",
        "        # Save to temporary location\n",
        "        temp_path = \"distracted_driver_best_model.pth\"\n",
        "        torch.save(checkpoint, temp_path)\n",
        "\n",
        "        # Save to Google Drive\n",
        "        drive_model_path = os.path.join(MODEL_SAVE_PATH, \"distracted_driver_vgg16_best.pth\")\n",
        "        torch.save(checkpoint, drive_model_path)\n",
        "\n",
        "        print(f\"✓ Best model saved to: {drive_model_path}\")\n",
        "\n",
        "        # Also save just the model weights for easier loading\n",
        "        weights_path = os.path.join(MODEL_SAVE_PATH, \"distracted_driver_vgg16_weights.pth\")\n",
        "        torch.save(model.state_dict(), weights_path)\n",
        "        print(f\"✓ Model weights saved to: {weights_path}\")\n",
        "\n",
        "    else:\n",
        "        epochs_no_improve += 1\n",
        "        print(f\"No improvement for {epochs_no_improve} epoch(s).\")\n",
        "        if epochs_no_improve >= patience:\n",
        "            print(f\"Early stopping at epoch {epoch+1}. Best Val Acc: {best_val_acc:.2f}%\")\n",
        "            break\n",
        "\n",
        "print(\"Training finished!\")"
      ],
      "metadata": {
        "colab": {
          "base_uri": "https://localhost:8080/"
        },
        "id": "2Ii_fFa69KBm",
        "outputId": "f5211bbb-7533-4a3c-8807-c56ebba55511"
      },
      "execution_count": 14,
      "outputs": [
        {
          "output_type": "stream",
          "name": "stdout",
          "text": [
            "Starting training...\n"
          ]
        },
        {
          "output_type": "stream",
          "name": "stderr",
          "text": [
            "Epoch 1/20: 100%|██████████| 631/631 [05:13<00:00,  2.01it/s]\n"
          ]
        },
        {
          "output_type": "stream",
          "name": "stdout",
          "text": [
            "Epoch 1: Train Loss=0.4680 | Train Acc=84.36% | Val Loss=0.1302 | Val Acc=96.34%\n",
            "✓ Best model saved to: /content/drive/MyDrive/SafeRoad/Code/Saved Models/distracted_driver_vgg16_best.pth\n",
            "✓ Model weights saved to: /content/drive/MyDrive/SafeRoad/Code/Saved Models/distracted_driver_vgg16_weights.pth\n"
          ]
        },
        {
          "output_type": "stream",
          "name": "stderr",
          "text": [
            "Epoch 2/20: 100%|██████████| 631/631 [05:17<00:00,  1.99it/s]\n"
          ]
        },
        {
          "output_type": "stream",
          "name": "stdout",
          "text": [
            "Epoch 2: Train Loss=0.0873 | Train Acc=97.45% | Val Loss=0.0515 | Val Acc=98.71%\n",
            "✓ Best model saved to: /content/drive/MyDrive/SafeRoad/Code/Saved Models/distracted_driver_vgg16_best.pth\n",
            "✓ Model weights saved to: /content/drive/MyDrive/SafeRoad/Code/Saved Models/distracted_driver_vgg16_weights.pth\n"
          ]
        },
        {
          "output_type": "stream",
          "name": "stderr",
          "text": [
            "Epoch 3/20: 100%|██████████| 631/631 [05:18<00:00,  1.98it/s]\n"
          ]
        },
        {
          "output_type": "stream",
          "name": "stdout",
          "text": [
            "Epoch 3: Train Loss=0.0567 | Train Acc=98.42% | Val Loss=0.0631 | Val Acc=98.48%\n",
            "No improvement for 1 epoch(s).\n"
          ]
        },
        {
          "output_type": "stream",
          "name": "stderr",
          "text": [
            "Epoch 4/20: 100%|██████████| 631/631 [05:09<00:00,  2.04it/s]\n"
          ]
        },
        {
          "output_type": "stream",
          "name": "stdout",
          "text": [
            "Epoch 4: Train Loss=0.0467 | Train Acc=98.80% | Val Loss=0.0712 | Val Acc=98.26%\n",
            "No improvement for 2 epoch(s).\n"
          ]
        },
        {
          "output_type": "stream",
          "name": "stderr",
          "text": [
            "Epoch 5/20: 100%|██████████| 631/631 [05:08<00:00,  2.05it/s]\n"
          ]
        },
        {
          "output_type": "stream",
          "name": "stdout",
          "text": [
            "Epoch 5: Train Loss=0.0430 | Train Acc=98.87% | Val Loss=0.0534 | Val Acc=98.80%\n",
            "✓ Best model saved to: /content/drive/MyDrive/SafeRoad/Code/Saved Models/distracted_driver_vgg16_best.pth\n",
            "✓ Model weights saved to: /content/drive/MyDrive/SafeRoad/Code/Saved Models/distracted_driver_vgg16_weights.pth\n"
          ]
        },
        {
          "output_type": "stream",
          "name": "stderr",
          "text": [
            "Epoch 6/20: 100%|██████████| 631/631 [05:33<00:00,  1.89it/s]\n"
          ]
        },
        {
          "output_type": "stream",
          "name": "stdout",
          "text": [
            "Epoch 6: Train Loss=0.0372 | Train Acc=99.07% | Val Loss=0.0570 | Val Acc=98.26%\n",
            "No improvement for 1 epoch(s).\n"
          ]
        },
        {
          "output_type": "stream",
          "name": "stderr",
          "text": [
            "Epoch 7/20: 100%|██████████| 631/631 [05:07<00:00,  2.05it/s]\n"
          ]
        },
        {
          "output_type": "stream",
          "name": "stdout",
          "text": [
            "Epoch 7: Train Loss=0.0401 | Train Acc=98.97% | Val Loss=0.0388 | Val Acc=99.15%\n",
            "✓ Best model saved to: /content/drive/MyDrive/SafeRoad/Code/Saved Models/distracted_driver_vgg16_best.pth\n",
            "✓ Model weights saved to: /content/drive/MyDrive/SafeRoad/Code/Saved Models/distracted_driver_vgg16_weights.pth\n"
          ]
        },
        {
          "output_type": "stream",
          "name": "stderr",
          "text": [
            "Epoch 8/20: 100%|██████████| 631/631 [05:34<00:00,  1.89it/s]\n"
          ]
        },
        {
          "output_type": "stream",
          "name": "stdout",
          "text": [
            "Epoch 8: Train Loss=0.0279 | Train Acc=99.28% | Val Loss=0.0477 | Val Acc=99.33%\n",
            "✓ Best model saved to: /content/drive/MyDrive/SafeRoad/Code/Saved Models/distracted_driver_vgg16_best.pth\n",
            "✓ Model weights saved to: /content/drive/MyDrive/SafeRoad/Code/Saved Models/distracted_driver_vgg16_weights.pth\n"
          ]
        },
        {
          "output_type": "stream",
          "name": "stderr",
          "text": [
            "Epoch 9/20: 100%|██████████| 631/631 [05:30<00:00,  1.91it/s]\n"
          ]
        },
        {
          "output_type": "stream",
          "name": "stdout",
          "text": [
            "Epoch 9: Train Loss=0.0271 | Train Acc=99.22% | Val Loss=0.0316 | Val Acc=99.38%\n",
            "✓ Best model saved to: /content/drive/MyDrive/SafeRoad/Code/Saved Models/distracted_driver_vgg16_best.pth\n",
            "✓ Model weights saved to: /content/drive/MyDrive/SafeRoad/Code/Saved Models/distracted_driver_vgg16_weights.pth\n"
          ]
        },
        {
          "output_type": "stream",
          "name": "stderr",
          "text": [
            "Epoch 10/20: 100%|██████████| 631/631 [05:30<00:00,  1.91it/s]\n"
          ]
        },
        {
          "output_type": "stream",
          "name": "stdout",
          "text": [
            "Epoch 10: Train Loss=0.0275 | Train Acc=99.23% | Val Loss=0.0532 | Val Acc=98.93%\n",
            "No improvement for 1 epoch(s).\n"
          ]
        },
        {
          "output_type": "stream",
          "name": "stderr",
          "text": [
            "Epoch 11/20: 100%|██████████| 631/631 [05:06<00:00,  2.06it/s]\n"
          ]
        },
        {
          "output_type": "stream",
          "name": "stdout",
          "text": [
            "Epoch 11: Train Loss=0.0167 | Train Acc=99.59% | Val Loss=0.1551 | Val Acc=99.60%\n",
            "✓ Best model saved to: /content/drive/MyDrive/SafeRoad/Code/Saved Models/distracted_driver_vgg16_best.pth\n",
            "✓ Model weights saved to: /content/drive/MyDrive/SafeRoad/Code/Saved Models/distracted_driver_vgg16_weights.pth\n"
          ]
        },
        {
          "output_type": "stream",
          "name": "stderr",
          "text": [
            "Epoch 12/20: 100%|██████████| 631/631 [05:30<00:00,  1.91it/s]\n"
          ]
        },
        {
          "output_type": "stream",
          "name": "stdout",
          "text": [
            "Epoch 12: Train Loss=0.0384 | Train Acc=98.97% | Val Loss=0.1043 | Val Acc=97.01%\n",
            "No improvement for 1 epoch(s).\n"
          ]
        },
        {
          "output_type": "stream",
          "name": "stderr",
          "text": [
            "Epoch 13/20: 100%|██████████| 631/631 [05:06<00:00,  2.06it/s]\n"
          ]
        },
        {
          "output_type": "stream",
          "name": "stdout",
          "text": [
            "Epoch 13: Train Loss=0.0209 | Train Acc=99.41% | Val Loss=0.0377 | Val Acc=99.29%\n",
            "No improvement for 2 epoch(s).\n"
          ]
        },
        {
          "output_type": "stream",
          "name": "stderr",
          "text": [
            "Epoch 14/20: 100%|██████████| 631/631 [05:06<00:00,  2.06it/s]\n"
          ]
        },
        {
          "output_type": "stream",
          "name": "stdout",
          "text": [
            "Epoch 14: Train Loss=0.0193 | Train Acc=99.56% | Val Loss=0.0353 | Val Acc=99.42%\n",
            "No improvement for 3 epoch(s).\n"
          ]
        },
        {
          "output_type": "stream",
          "name": "stderr",
          "text": [
            "Epoch 15/20: 100%|██████████| 631/631 [05:04<00:00,  2.07it/s]\n"
          ]
        },
        {
          "output_type": "stream",
          "name": "stdout",
          "text": [
            "Epoch 15: Train Loss=0.0179 | Train Acc=99.54% | Val Loss=0.0335 | Val Acc=99.29%\n",
            "No improvement for 4 epoch(s).\n",
            "Early stopping at epoch 15. Best Val Acc: 99.60%\n",
            "Training finished!\n"
          ]
        }
      ]
    },
    {
      "cell_type": "markdown",
      "source": [
        "Trains the model over multiple epochs.\n",
        "\n",
        "Tracks training and validation accuracy and loss.\n",
        "\n",
        "Saves the best model whenever validation accuracy improves.\n",
        "\n",
        "Implements early stopping if the model stops improving for a set number of epochs.\n",
        "\n"
      ],
      "metadata": {
        "id": "Jm7my7D49Djf"
      }
    },
    {
      "cell_type": "code",
      "source": [
        "final_checkpoint = {\n",
        "    'epoch': epoch,\n",
        "    'model_state_dict': model.state_dict(),\n",
        "    'optimizer_state_dict': optimizer.state_dict(),\n",
        "    'train_loss': epoch_loss,\n",
        "    'train_acc': train_acc,\n",
        "    'val_loss': val_loss,\n",
        "    'val_acc': val_acc,\n",
        "    'best_val_acc': best_val_acc,\n",
        "    'class_names': class_names,\n",
        "    'num_classes': 10,\n",
        "    'model_architecture': 'VGG16',\n",
        "    'image_size': IMG_SIZE,\n",
        "    'normalization_mean': [0.485, 0.456, 0.406],\n",
        "    'normalization_std': [0.229, 0.224, 0.225],\n",
        "    'timestamp': datetime.now().strftime(\"%Y-%m-%d %H:%M:%S\"),\n",
        "    'training_history': {\n",
        "        'train_losses': train_losses,\n",
        "        'train_accs': train_accs,\n",
        "        'val_losses': val_losses,\n",
        "        'val_accs': val_accs\n",
        "    }\n",
        "}\n",
        "\n",
        "final_model_path = os.path.join(MODEL_SAVE_PATH, \"distracted_driver_vgg16_final.pth\")\n",
        "torch.save(final_checkpoint, final_model_path)\n",
        "print(f\"Final model saved to: {final_model_path}\")\n",
        "\n",
        "# Save training configuration\n",
        "config = {\n",
        "    'dataset_path': DATASET_PATH,\n",
        "    'model_save_path': MODEL_SAVE_PATH,\n",
        "    'img_dir': IMG_DIR,\n",
        "    'test_img_dir': TEST_IMG_DIR,\n",
        "    'batch_size': BATCH_SIZE,\n",
        "    'img_size': IMG_SIZE,\n",
        "    'epochs_trained': epoch + 1,\n",
        "    'max_epochs': EPOCHS,\n",
        "    'patience': patience,\n",
        "    'num_workers': NUM_WORKERS,\n",
        "    'device': DEVICE,\n",
        "    'train_size': len(train_df),\n",
        "    'val_size': len(val_df),\n",
        "    'best_val_acc': best_val_acc,\n",
        "    'class_names': class_names\n",
        "}\n",
        "\n",
        "config_path = os.path.join(MODEL_SAVE_PATH, \"distracted_driver_config.json\")\n",
        "with open(config_path, 'w') as f:\n",
        "    json.dump(config, f, indent=4)\n",
        "print(f\"Training configuration saved to: {config_path}\")"
      ],
      "metadata": {
        "id": "mSrkI2nU9O3p",
        "colab": {
          "base_uri": "https://localhost:8080/"
        },
        "outputId": "9cadb31f-ab19-43a8-ae27-176f0ac8b620"
      },
      "execution_count": 15,
      "outputs": [
        {
          "output_type": "stream",
          "name": "stdout",
          "text": [
            "Final model saved to: /content/drive/MyDrive/SafeRoad/Code/Saved Models/distracted_driver_vgg16_final.pth\n",
            "Training configuration saved to: /content/drive/MyDrive/SafeRoad/Code/Saved Models/distracted_driver_config.json\n"
          ]
        }
      ]
    },
    {
      "cell_type": "markdown",
      "source": [
        "Saves the final version of the model and all training stats (losses, accuracies, best validation accuracy) as a checkpoint.\n",
        "\n",
        "Stores configuration info in a JSON file.\n"
      ],
      "metadata": {
        "id": "XRgf1HEt9RW6"
      }
    },
    {
      "cell_type": "code",
      "source": [
        "plt.figure(figsize=(12, 4))\n",
        "\n",
        "plt.subplot(1, 2, 1)\n",
        "plt.plot(train_losses, label='Train Loss')\n",
        "plt.plot(val_losses, label='Val Loss')\n",
        "plt.xlabel('Epoch')\n",
        "plt.ylabel('Loss')\n",
        "plt.title('Training and Validation Loss')\n",
        "plt.legend()\n",
        "plt.grid(True)\n",
        "\n",
        "plt.subplot(1, 2, 2)\n",
        "plt.plot(train_accs, label='Train Acc')\n",
        "plt.plot(val_accs, label='Val Acc')\n",
        "plt.xlabel('Epoch')\n",
        "plt.ylabel('Accuracy (%)')\n",
        "plt.title('Training and Validation Accuracy')\n",
        "plt.legend()\n",
        "plt.grid(True)\n",
        "\n",
        "plt.tight_layout()\n",
        "plt.savefig(os.path.join(MODEL_SAVE_PATH, 'training_history.png'))\n",
        "plt.show()"
      ],
      "metadata": {
        "id": "j0GfHYqV9XAb",
        "colab": {
          "base_uri": "https://localhost:8080/",
          "height": 279
        },
        "outputId": "9b881373-f182-4f41-c50e-e3a130e292a2"
      },
      "execution_count": 16,
      "outputs": [
        {
          "output_type": "display_data",
          "data": {
            "text/plain": [
              "<Figure size 1200x400 with 2 Axes>"
            ],
            "image/png": "[encoded data removed]"
          },
          "metadata": {}
        }
      ]
    },
    {
      "cell_type": "markdown",
      "source": [
        "Plots the loss and accuracy curves for both training and validation sets.\n",
        "\n",
        "Saves the plot (training_history.png) for future reference."
      ],
      "metadata": {
        "id": "YY-w0nxm9YAT"
      }
    },
    {
      "cell_type": "code",
      "source": [
        "model.eval()\n",
        "correct, total = 0, 0\n",
        "class_correct = list(0. for i in range(10))\n",
        "class_total = list(0. for i in range(10))\n",
        "\n",
        "with torch.no_grad():\n",
        "    for imgs, labels in val_loader:\n",
        "        imgs, labels = imgs.to(DEVICE), labels.to(DEVICE)\n",
        "        outputs = model(imgs)\n",
        "        _, preds = torch.max(outputs, 1)\n",
        "        correct += (preds == labels).sum().item()\n",
        "        total += labels.size(0)\n",
        "\n",
        "        # Per-class accuracy\n",
        "        c = (preds == labels).squeeze()\n",
        "        for i in range(labels.size(0)):\n",
        "            label = labels[i]\n",
        "            class_correct[label] += c[i].item()\n",
        "            class_total[label] += 1\n",
        "\n",
        "overall_val_acc = correct / total\n",
        "print(f\"\\nFinal Validation Accuracy: {overall_val_acc:.4f}\")\n",
        "\n",
        "# Print per-class accuracy\n",
        "print(\"\\nPer-class accuracy:\")\n",
        "for i in range(10):\n",
        "    if class_total[i] > 0:\n",
        "        accuracy = 100 * class_correct[i] / class_total[i]\n",
        "        print(f\"Class {i} ({class_names[i]}): {accuracy:.2f}%\")"
      ],
      "metadata": {
        "id": "gbRTS-fz9e_6",
        "colab": {
          "base_uri": "https://localhost:8080/"
        },
        "outputId": "7034bcee-adff-4ded-a57e-4b0cc8fe7314"
      },
      "execution_count": 17,
      "outputs": [
        {
          "output_type": "stream",
          "name": "stdout",
          "text": [
            "\n",
            "Final Validation Accuracy: 0.9929\n",
            "\n",
            "Per-class accuracy:\n",
            "Class 0 (Normal Driving): 100.00%\n",
            "Class 1 (Texting - Right): 100.00%\n",
            "Class 2 (Talking Phone - Right): 99.57%\n",
            "Class 3 (Texting - Left): 100.00%\n",
            "Class 4 (Talking Phone - Left): 100.00%\n",
            "Class 5 (Operating Radio): 100.00%\n",
            "Class 6 (Drinking): 100.00%\n",
            "Class 7 (Reaching Behind): 99.50%\n",
            "Class 8 (Hair & Makeup): 95.29%\n",
            "Class 9 (Talking to Passenger): 97.65%\n"
          ]
        }
      ]
    },
    {
      "cell_type": "markdown",
      "source": [
        "Evaluates the final trained model on the validation set.\n",
        "\n",
        "Prints overall accuracy and per-class accuracy."
      ],
      "metadata": {
        "id": "TBQie2XI9qi_"
      }
    },
    {
      "cell_type": "code",
      "source": [
        "class TestDriverDataset(Dataset):\n",
        "    def __init__(self, img_dir, transform=None):\n",
        "        self.img_dir = img_dir\n",
        "        self.imgs = sorted([f for f in os.listdir(img_dir) if f.endswith('.jpg')])\n",
        "        self.transform = transform\n",
        "\n",
        "    def __len__(self):\n",
        "        return len(self.imgs)\n",
        "\n",
        "    def __getitem__(self, idx):\n",
        "        img_name = self.imgs[idx]\n",
        "        img_path = os.path.join(self.img_dir, img_name)\n",
        "        try:\n",
        "            image = Image.open(img_path).convert(\"RGB\")\n",
        "        except Exception as e:\n",
        "            print(f\"Error loading test image {img_path}: {e}\")\n",
        "            image = Image.new('RGB', (224, 224), color='black')\n",
        "\n",
        "        if self.transform:\n",
        "            image = self.transform(image)\n",
        "        return image, img_name"
      ],
      "metadata": {
        "id": "IYYRsJx69xhI"
      },
      "execution_count": 18,
      "outputs": []
    },
    {
      "cell_type": "markdown",
      "source": [
        "Defines a TestDriverDataset for the test folder, similar to the training dataset class.\n",
        "\n",
        "Handles loading of test images without labels."
      ],
      "metadata": {
        "id": "VaWu4Cs29yuW"
      }
    },
    {
      "cell_type": "code",
      "source": [
        "if os.path.exists(TEST_IMG_DIR):\n",
        "    test_ds = TestDriverDataset(TEST_IMG_DIR, transform_val)\n",
        "    test_loader = DataLoader(test_ds, batch_size=32, shuffle=False, num_workers=NUM_WORKERS)\n",
        "\n",
        "    model.eval()\n",
        "    test_predictions = []\n",
        "\n",
        "    with torch.no_grad():\n",
        "        for imgs, img_names in tqdm(test_loader, desc=\"Testing\"):\n",
        "            imgs = imgs.to(DEVICE)\n",
        "            outputs = model(imgs)\n",
        "            probs = torch.softmax(outputs, 1)\n",
        "            test_predictions.extend(list(zip(img_names, probs.cpu().numpy())))\n",
        "\n",
        "    print(f\"Generated predictions for {len(test_predictions)} test images\")\n",
        "else:\n",
        "    print(\"Test directory not found. Skipping test predictions.\")"
      ],
      "metadata": {
        "id": "dCzed74I94eN",
        "colab": {
          "base_uri": "https://localhost:8080/"
        },
        "outputId": "8c13d65e-d52e-4aba-afdc-fb42725b6ddb"
      },
      "execution_count": 19,
      "outputs": [
        {
          "output_type": "stream",
          "name": "stderr",
          "text": [
            "Testing: 100%|██████████| 2492/2492 [08:31<00:00,  4.87it/s]"
          ]
        },
        {
          "output_type": "stream",
          "name": "stdout",
          "text": [
            "Generated predictions for 79726 test images\n"
          ]
        },
        {
          "output_type": "stream",
          "name": "stderr",
          "text": [
            "\n"
          ]
        }
      ]
    },
    {
      "cell_type": "markdown",
      "source": [
        "Runs the trained model on all test images.\n",
        "\n",
        "Computes class probabilities for each image."
      ],
      "metadata": {
        "id": "17xz3TvI95gX"
      }
    },
    {
      "cell_type": "code",
      "source": [
        "if 'test_predictions' in locals():\n",
        "    submission = pd.DataFrame(\n",
        "        [(img, *probs) for img, probs in test_predictions],\n",
        "        columns=['img'] + [f'c{i}' for i in range(10)]\n",
        "    )\n",
        "    submission.to_csv(\"submission.csv\", index=False)\n",
        "    print(\"Submission file 'submission.csv' created.\")\n",
        "\n",
        "    # Also create classification file\n",
        "    class_cols = [f'c{i}' for i in range(10)]\n",
        "    submission['predicted_class'] = submission[class_cols].values.argmax(axis=1)\n",
        "    classification = submission[['img', 'predicted_class']]\n",
        "    classification.to_csv(\"classification.csv\", index=False)\n",
        "    print(\"Classification file 'classification.csv' created!\")\n",
        "    print(classification.head())"
      ],
      "metadata": {
        "id": "s71UhLe2-BT0",
        "colab": {
          "base_uri": "https://localhost:8080/"
        },
        "outputId": "36364b58-a06c-41df-eb2f-94966a5cfab0"
      },
      "execution_count": 20,
      "outputs": [
        {
          "output_type": "stream",
          "name": "stdout",
          "text": [
            "Submission file 'submission.csv' created.\n",
            "Classification file 'classification.csv' created!\n",
            "              img  predicted_class\n",
            "0       img_1.jpg                5\n",
            "1      img_10.jpg                5\n",
            "2     img_100.jpg                0\n",
            "3    img_1000.jpg                8\n",
            "4  img_100000.jpg                3\n"
          ]
        }
      ]
    },
    {
      "cell_type": "markdown",
      "source": [
        "Creates submission.csv with predicted probabilities for each class.\n",
        "\n",
        "Creates classification.csv with the most likely predicted class for each test image."
      ],
      "metadata": {
        "id": "fDXgt_zP-Gb4"
      }
    },
    {
      "cell_type": "code",
      "source": [
        "SAMPLE_SUB_PATH = f\"{DATASET_PATH}/sample_submission.csv\"\n",
        "if os.path.exists(SAMPLE_SUB_PATH) and 'submission' in locals():\n",
        "    sample_sub = pd.read_csv(SAMPLE_SUB_PATH)\n",
        "    submission_indexed = submission.set_index('img')\n",
        "    submission_reindexed = submission_indexed.reindex(sample_sub['img'])\n",
        "    final_submission = submission_reindexed.reset_index()\n",
        "    final_submission = final_submission[sample_sub.columns]\n",
        "    final_submission.to_csv(\"final_submission.csv\", index=False)\n",
        "    print(\"Final submission file 'final_submission.csv' created!\")\n",
        "else:\n",
        "    print(\"Sample submission not found or no predictions available.\")"
      ],
      "metadata": {
        "id": "v6I69LBr-PsO",
        "colab": {
          "base_uri": "https://localhost:8080/"
        },
        "outputId": "db4601a0-66a0-4ef2-f0cb-55946f0727a8"
      },
      "execution_count": 21,
      "outputs": [
        {
          "output_type": "stream",
          "name": "stdout",
          "text": [
            "Final submission file 'final_submission.csv' created!\n"
          ]
        }
      ]
    },
    {
      "cell_type": "markdown",
      "source": [
        "Aligns your predictions with the sample submission format (if a sample_submission.csv is provided).\n",
        "\n",
        "Saves final_submission.csv for competition submissions."
      ],
      "metadata": {
        "id": "C2-7GuIV-WTp"
      }
    },
    {
      "cell_type": "code",
      "source": [
        "inference_script = '''# Distracted Driver Detection - Inference Script\n",
        "import torch\n",
        "import torch.nn as nn\n",
        "from torchvision import transforms, models\n",
        "from PIL import Image\n",
        "import json\n",
        "import os\n",
        "\n",
        "def load_model(checkpoint_path):\n",
        "    \"\"\"Load the trained model from checkpoint\"\"\"\n",
        "    # Initialize model architecture\n",
        "    model = models.vgg16(pretrained=False)\n",
        "    model.classifier[6] = nn.Linear(4096, 10)\n",
        "\n",
        "    # Load checkpoint\n",
        "    checkpoint = torch.load(checkpoint_path, map_location='cpu')\n",
        "    model.load_state_dict(checkpoint['model_state_dict'])\n",
        "\n",
        "    # Get additional info\n",
        "    class_names = checkpoint.get('class_names', {})\n",
        "\n",
        "    return model, class_names\n",
        "\n",
        "def predict_image(model, image_path, device='cpu'):\n",
        "    \"\"\"Predict the class of a single image\"\"\"\n",
        "    # Define transform\n",
        "    transform = transforms.Compose([\n",
        "        transforms.Resize((224, 224)),\n",
        "        transforms.ToTensor(),\n",
        "        transforms.Normalize([0.485, 0.456, 0.406], [0.229, 0.224, 0.225])\n",
        "    ])\n",
        "\n",
        "    # Load and transform image\n",
        "    image = Image.open(image_path).convert('RGB')\n",
        "    image_tensor = transform(image).unsqueeze(0).to(device)\n",
        "\n",
        "    # Make prediction\n",
        "    model.eval()\n",
        "    with torch.no_grad():\n",
        "        outputs = model(image_tensor)\n",
        "        probs = torch.softmax(outputs, dim=1)\n",
        "        pred_class = outputs.argmax(1).item()\n",
        "        confidence = probs[0, pred_class].item()\n",
        "\n",
        "    return pred_class, confidence, probs[0].cpu().numpy()\n",
        "\n",
        "# Example usage:\n",
        "if __name__ == \"__main__\":\n",
        "    # Load model\n",
        "    model_path = \"distracted_driver_vgg16_best.pth\"\n",
        "    model, class_names = load_model(model_path)\n",
        "\n",
        "    # Set device\n",
        "    device = 'cuda' if torch.cuda.is_available() else 'cpu'\n",
        "    model = model.to(device)\n",
        "\n",
        "    # Predict on image\n",
        "    image_path = \"test_image.jpg\"\n",
        "    pred_class, confidence, all_probs = predict_image(model, image_path, device)\n",
        "\n",
        "    print(f\"Predicted class: {pred_class} - {class_names.get(pred_class, 'Unknown')}\")\n",
        "    print(f\"Confidence: {confidence:.2%}\")\n",
        "'''\n",
        "\n",
        "inference_path = os.path.join(MODEL_SAVE_PATH, \"inference_script.py\")\n",
        "with open(inference_path, 'w') as f:\n",
        "    f.write(inference_script)\n",
        "print(f\"\\nInference script saved to: {inference_path}\")\n",
        "\n",
        "print(\"\\n\" + \"=\"*60)\n",
        "print(\"MODEL SAVING COMPLETE!\")\n",
        "print(\"=\"*60)\n",
        "print(f\"Models saved to: {MODEL_SAVE_PATH}\")\n",
        "print(\"\\nSaved files:\")\n",
        "print(f\"1. distracted_driver_vgg16_best.pth - Best model checkpoint\")\n",
        "print(f\"2. distracted_driver_vgg16_weights.pth - Model weights only\")\n",
        "print(f\"3. distracted_driver_vgg16_final.pth - Final model checkpoint\")\n",
        "print(f\"4. distracted_driver_config.json - Training configuration\")\n",
        "print(f\"5. training_history.png - Training plots\")\n",
        "print(f\"6. inference_script.py - Script for using the model\")\n",
        "print(\"=\"*60)\n",
        "\n",
        "print(\"\\nTo use this model later for video classification:\")\n",
        "print(\"1. Load the checkpoint using torch.load()\")\n",
        "print(\"2. Initialize VGG16 with the same architecture\")\n",
        "print(\"3. Load the state dict from the checkpoint\")\n",
        "print(\"4. Use the model for frame-by-frame classification\")\n",
        "\n",
        "print(\"\\nAll done! Check your Colab files for the generated CSV files.\")"
      ],
      "metadata": {
        "id": "OYYPHeSf-eYh",
        "colab": {
          "base_uri": "https://localhost:8080/"
        },
        "outputId": "2ae26d30-fe89-4cc8-bbb5-3edb7cbb83c6"
      },
      "execution_count": 22,
      "outputs": [
        {
          "output_type": "stream",
          "name": "stdout",
          "text": [
            "\n",
            "Inference script saved to: /content/drive/MyDrive/SafeRoad/Code/Saved Models/inference_script.py\n",
            "\n",
            "============================================================\n",
            "MODEL SAVING COMPLETE!\n",
            "============================================================\n",
            "Models saved to: /content/drive/MyDrive/SafeRoad/Code/Saved Models\n",
            "\n",
            "Saved files:\n",
            "1. distracted_driver_vgg16_best.pth - Best model checkpoint\n",
            "2. distracted_driver_vgg16_weights.pth - Model weights only\n",
            "3. distracted_driver_vgg16_final.pth - Final model checkpoint\n",
            "4. distracted_driver_config.json - Training configuration\n",
            "5. training_history.png - Training plots\n",
            "6. inference_script.py - Script for using the model\n",
            "============================================================\n",
            "\n",
            "To use this model later for video classification:\n",
            "1. Load the checkpoint using torch.load()\n",
            "2. Initialize VGG16 with the same architecture\n",
            "3. Load the state dict from the checkpoint\n",
            "4. Use the model for frame-by-frame classification\n",
            "\n",
            "All done! Check your Colab files for the generated CSV files.\n"
          ]
        }
      ]
    },
    {
      "cell_type": "markdown",
      "source": [
        "Generates a simple standalone Python script (inference_script.py) to load the trained model and make predictions on any new image.\n",
        "\n",
        "This script is handy for deployment or testing outside Colab."
      ],
      "metadata": {
        "id": "kr9J98g8-g4_"
      }
    },
    {
      "cell_type": "markdown",
      "source": [
        "# Distracted Driving Detection – Project Summary\n",
        "\n",
        "### Project Overview\n",
        "This notebook implements a complete image classification pipeline to detect distracted driving behaviors (e.g., texting, phone usage, drinking) using the State Farm Distracted Driver Detection dataset and a fine-tuned VGG16 model.\n",
        "\n",
        "---\n",
        "\n",
        "### 1. Dataset Source and Access\n",
        "- The dataset is too large to upload directly into Colab.\n",
        "- It is stored in Google Drive at:\n",
        "  /MyDrive/SafeRoad/References & Links for Datasets\n",
        "- The notebook automatically detects and extracts `state-farm-distracted-driver-detection.zip` (or any `.zip` file) from this folder into `/content/`.\n",
        "\n",
        "---\n",
        "\n",
        "### 2. CSV and Image Structure\n",
        "- Uses `driver_imgs_list.csv` to retrieve labels for each image.\n",
        "- Images are stored in subfolders named `c0` to `c9`, each corresponding to a specific driver activity class.\n",
        "\n",
        "---\n",
        "\n",
        "### 3. Data Preparation\n",
        "- Converts class names (e.g., `c0`, `c1`) into numeric labels.\n",
        "- Full image paths are created for each entry.\n",
        "- Applies a 90/10 stratified train-validation split to maintain class balance.\n",
        "\n",
        "---\n",
        "\n",
        "### 4. Classification Classes\n",
        "| Label | Class Name             |\n",
        "|-------|------------------------|\n",
        "| c0    | Normal Driving         |\n",
        "| c1    | Texting - Right        |\n",
        "| c2    | Talking Phone - Right  |\n",
        "| c3    | Texting - Left         |\n",
        "| c4    | Talking Phone - Left   |\n",
        "| c5    | Operating Radio        |\n",
        "| c6    | Drinking               |\n",
        "| c7    | Reaching Behind        |\n",
        "| c8    | Hair & Makeup          |\n",
        "| c9    | Talking to Passenger   |\n",
        "\n",
        "---\n",
        "\n",
        "### 5. Model Architecture\n",
        "- Base Model: VGG16 pre-trained on ImageNet\n",
        "- Final fully connected layer replaced to output 10 classes\n",
        "- Optimizer: Adam\n",
        "- Loss Function: CrossEntropyLoss\n",
        "- Runs on GPU if available\n",
        "- Includes early stopping and checkpoint saving\n",
        "\n",
        "---\n",
        "\n",
        "### 6. Data Augmentation\n",
        "- Training set includes transformations like random crops, flips, and color jitter\n",
        "- Validation set includes resizing and normalization\n",
        "- All images resized to 224×224\n",
        "\n",
        "---\n",
        "\n",
        "### 7. Training and Evaluation\n",
        "- Model is trained across multiple epochs with live accuracy and loss tracking\n",
        "- Early stopping prevents overfitting\n",
        "- Reports final validation accuracy and per-class accuracy\n",
        "- Plots training vs validation curves\n",
        "\n",
        "---\n",
        "\n",
        "### 8. Saved Files\n",
        "All model and configuration files are saved to:\n",
        "`/MyDrive/SafeRoad/Code/Saved Models`\n",
        "\n",
        "| File | Description |\n",
        "|------|-------------|\n",
        "| `distracted_driver_vgg16_best.pth` | Best model checkpoint (includes weights and metadata) |\n",
        "| `distracted_driver_vgg16_weights.pth` | Weights only |\n",
        "| `distracted_driver_vgg16_final.pth` | Final model after last epoch |\n",
        "| `distracted_driver_config.json` | Training configuration and metadata |\n",
        "| `training_history.png` | Plot of training and validation accuracy/loss |\n",
        "| `inference_script.py` | Standalone script to run model inference |\n",
        "\n",
        "---\n",
        "\n",
        "### 9. Test Predictions\n",
        "- Model generates predictions on test images (if present)\n",
        "- Output files:\n",
        "  - `submission.csv`: Class probabilities\n",
        "  - `classification.csv`: Predicted class index\n",
        "  - `final_submission.csv`: Matches sample submission format (if available)\n",
        "\n",
        "---\n",
        "\n",
        "### 10. Inference Script\n",
        "- A Python script (`inference_script.py`) is generated for future use.\n",
        "- Loads the trained model and performs prediction on new images, outputting class name and confidence score.\n"
      ],
      "metadata": {
        "id": "D2LLJ_7uOkSb"
      }
    }
  ]
}
